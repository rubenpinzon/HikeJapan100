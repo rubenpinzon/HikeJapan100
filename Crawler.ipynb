{
 "cells": [
  {
   "cell_type": "markdown",
   "metadata": {},
   "source": [
    "## Web Crawker that collects information on the Hyakumeisan\n",
    "\n",
    "Information obatain from the excellent web site momonayama.net by Inpossi."
   ]
  },
  {
   "cell_type": "code",
   "execution_count": null,
   "metadata": {},
   "outputs": [],
   "source": [
    "from requests import get\n",
    "from requests.exceptions import RequestException\n",
    "from contextlib import closing\n",
    "from bs4 import BeautifulSoup as bs\n",
    "import string"
   ]
  },
  {
   "cell_type": "code",
   "execution_count": null,
   "metadata": {},
   "outputs": [],
   "source": [
    "def simple_get(url):\n",
    "    \"\"\"\n",
    "    Attempts to get the content at `url` by making an HTTP GET request.\n",
    "    If the content-type of response is some kind of HTML/XML, return the\n",
    "    text content, otherwise return None.\n",
    "    \"\"\"\n",
    "    try:\n",
    "        with closing(get(url, stream=True)) as resp:\n",
    "            if is_good_response(resp):\n",
    "                return resp.content\n",
    "            else:\n",
    "                return None\n",
    "\n",
    "    except RequestException as e:\n",
    "        log_error('Error during requests to {0} : {1}'.format(url, str(e)))\n",
    "        return None\n",
    "\n",
    "def is_good_response(resp):\n",
    "    \"\"\"\n",
    "    Returns True if the response seems to be HTML, False otherwise.\n",
    "    \"\"\"\n",
    "    content_type = resp.headers['Content-Type'].lower()\n",
    "    return (resp.status_code == 200 \n",
    "            and content_type is not None \n",
    "            and content_type.find('html') > -1)\n",
    "\n",
    "def log_error(e):\n",
    "    \"\"\"\n",
    "    It is always a good idea to log errors. \n",
    "    This function just prints them, but you can\n",
    "    make it do anything.\n",
    "    \"\"\"\n",
    "    print(e)"
   ]
  },
  {
   "cell_type": "code",
   "execution_count": null,
   "metadata": {},
   "outputs": [],
   "source": [
    "#Information dowloaded from momonayama.net#\n",
    "base_path = \"https://www.momonayama.net/hundred_mt_individually_data/basic_data/basic_data\"\n",
    "hyakumeisan = []\n",
    "for i in range(99):\n",
    "    mount = {}\n",
    "    raw_html = simple_get(base_path + '-' + str(i+1).zfill(3) + '.html')\n",
    "    bs_html = bs(raw_html,'html.parser')\n",
    "    # extract Name\n",
    "    div = bs_html.findAll(\"div\", {'class':'h2_main_title-01'})\n",
    "    mount['Nam'] = ''.join(x for x in div[0].h2.text if x not in '\\r\\n\\t')\n",
    "\n",
    "    # extract Elevation\n",
    "    div = bs_html.findAll(\"div\", {'class':'bas_pro-01'})\n",
    "    mount['Lat'] = ''.join(x for x in div[0].p.text if x not in '\\r\\n\\t')\n",
    "\n",
    "    # extract location\n",
    "    div = bs_html.findAll(\"div\", {'class':'bas_alt-01'})\n",
    "    mount['Ele'] = ''.join(x for x in div[0].p.text if x not in '\\r\\n\\t')\n",
    "\n",
    "    # extract Area\n",
    "    div = bs_html.findAll(\"div\", {'class':'bas_add-01'})\n",
    "    mount['Loc'] = ''.join(x for x in div[0].p.text if x not in '\\r\\n\\t')\n",
    "    print(i+1,mount['Nam'], mount['Ele'])\n",
    "    hyakumeisan.append(mount)"
   ]
  },
  {
   "cell_type": "code",
   "execution_count": null,
   "metadata": {},
   "outputs": [],
   "source": []
  }
 ],
 "metadata": {
  "kernelspec": {
   "display_name": "Python 3",
   "language": "python",
   "name": "python3"
  },
  "language_info": {
   "codemirror_mode": {
    "name": "ipython",
    "version": 3
   },
   "file_extension": ".py",
   "mimetype": "text/x-python",
   "name": "python",
   "nbconvert_exporter": "python",
   "pygments_lexer": "ipython3",
   "version": "3.7.1"
  }
 },
 "nbformat": 4,
 "nbformat_minor": 2
}
